"cells": [
  {
   "cell_type": "code",
   "execution_count": 4,
   "metadata": {},
   "outputs": [
    {
     "data": {
      "text/plain": [
       "4.5"
      ]
     },
     "execution_count": 4,
     "metadata": {},
     "output_type": "execute_result"
    }
   ],
   "source": [
    "import pandas as pd\n",
    "import numpy as np \n",
    "\n",
    "\n",
    "df = pd.read_csv (r'csse_covid_19_time_series/time_series_19-covid-Confirmed.csv')\n",
    "del df[\"Province/State\"]\n",
    "del df[\"Lat\"]\n",
    "del df[\"Long\"]\n",
    "\n",
    "for i in range(len(df)):\n",
    "    if df['Country/Region'][i] == \"Morocco\":\n",
    "        break\n",
    "        \n",
    "del df[\"Country/Region\"]\n",
    "colonne_pay = df.loc[i,]\n",
    "colonne =[]\n",
    "for i in range(len(colonne_pay)):\n",
    "        colonne.append(colonne_pay[i])\n",
    "        \n",
    "for i in range(len(colonne)):\n",
    "    if colonne[i]!= 0 :\n",
    "        a=i\n",
    "        b=colonne[i]\n",
    "        break\n",
    "k=0\n",
    "moyenne =[]\n",
    "for i in range(a,len(colonne)):\n",
    "    if colonne[i] >= 2*b:\n",
    "        k = k+1\n",
    "        if k==1:\n",
    "            c=i\n",
    "            b=colonne[i]\n",
    "        if k > 1:\n",
    "            moyenne.append(i-c)\n",
    "            b=colonne[i]\n",
    "            c=i\n",
    "            \n",
    "np.mean(moyenne)"
   ]
  },
  {
   "cell_type": "code",
   "execution_count": null,
   "metadata": {},
   "outputs": [],
   "source": []
  }
 ],
 "metadata": {
  "kernelspec": {
   "display_name": "Python 3",
   "language": "python",
   "name": "python3"
  },
  "language_info": {
   "codemirror_mode": {
    "name": "ipython",
    "version": 3
   },
   "file_extension": ".py",
   "mimetype": "text/x-python",
   "name": "python",
   "nbconvert_exporter": "python",
   "pygments_lexer": "ipython3",
   "version": "3.7.3"
  }
 },
 "nbformat": 4,
 "nbformat_minor": 2
}